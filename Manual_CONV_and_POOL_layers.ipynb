{
  "nbformat": 4,
  "nbformat_minor": 0,
  "metadata": {
    "colab": {
      "name": "Manual CONV and POOL layers",
      "version": "0.3.2",
      "provenance": [],
      "collapsed_sections": [],
      "include_colab_link": true
    },
    "kernelspec": {
      "name": "python3",
      "display_name": "Python 3"
    }
  },
  "cells": [
    {
      "cell_type": "markdown",
      "metadata": {
        "id": "view-in-github",
        "colab_type": "text"
      },
      "source": [
        "<a href=\"https://colab.research.google.com/github/DrAlexSanz/Notebooks-for-trials-and-problems/blob/master/Manual_CONV_and_POOL_layers.ipynb\" target=\"_parent\"><img src=\"https://colab.research.google.com/assets/colab-badge.svg\" alt=\"Open In Colab\"/></a>"
      ]
    },
    {
      "cell_type": "markdown",
      "metadata": {
        "id": "Ti1l_cHFJTZB",
        "colab_type": "text"
      },
      "source": [
        "In this notebook I will be implementing a convolution and pooling operation\n",
        "\n",
        "\n",
        "\n",
        "*   Padding\n",
        "*   Convolution operation\n",
        "\n",
        "*   Pooling operation\n",
        "\n",
        "*   Forward convolution\n",
        "*   Backward convolution\n",
        "\n",
        "*   Forward pooling\n",
        "*   Backward pooling\n",
        "\n",
        "\n",
        "\n",
        "\n",
        "\n"
      ]
    },
    {
      "cell_type": "code",
      "metadata": {
        "id": "39Pnw9ZKJKlu",
        "colab_type": "code",
        "colab": {
          "base_uri": "https://localhost:8080/",
          "height": 51
        },
        "outputId": "6f8c989e-2de8-4ad3-c537-ba2f2fecea2c"
      },
      "source": [
        "import numpy as np\n",
        "import h5py\n",
        "import matplotlib.pyplot as plt\n",
        "\n",
        "%matplotlib inline\n",
        "plt.rcParams['figure.figsize'] = (5.0, 4.0) # set default size of plots\n",
        "plt.rcParams['image.interpolation'] = 'nearest'\n",
        "plt.rcParams['image.cmap'] = 'gray'\n",
        "\n",
        "%load_ext autoreload\n",
        "%autoreload 2\n",
        "\n",
        "np.random.seed(1)"
      ],
      "execution_count": 22,
      "outputs": [
        {
          "output_type": "stream",
          "text": [
            "The autoreload extension is already loaded. To reload it, use:\n",
            "  %reload_ext autoreload\n"
          ],
          "name": "stdout"
        }
      ]
    },
    {
      "cell_type": "markdown",
      "metadata": {
        "id": "8oG5aqWbKTGk",
        "colab_type": "text"
      },
      "source": [
        "Padding function. This is applied to all the 3 RGB components of the picture. You can see it as a padding in $\\mathcal{R}^3$."
      ]
    },
    {
      "cell_type": "code",
      "metadata": {
        "id": "uZLyTCagKj93",
        "colab_type": "code",
        "colab": {}
      },
      "source": [
        "def zero_padding(X, pad):\n",
        "    \n",
        "    \"\"\"\n",
        "    This function pads with 0s. The images are X, passed as a numpy array.\n",
        "    pad is an integer. It's the amount of padding that I apply to the picture.\n",
        "    \n",
        "    X is a vector of dimension (m, Height, Width, n_colours) ----> 4 components!!\n",
        "    m is the number of examples/photos. n_colours should be 3, RGB, but can be some other number, typically 4 for CMYK. I don't pad this one.\n",
        "    \n",
        "    np.pad is the function to pad. There are many arguments but I need to focus on the way to input the data\n",
        "    \n",
        "    After X I have to input the before and after dimension for every component. I could pad the left side with 3 and the right side with 45 for example.\n",
        "    Normally I will pad only these two and with the same number, therefore is a tuple (pad,pad). Could be (3,45) if I need to.\n",
        "    \n",
        "    The first component is the number of pictures, don't pad this or the number of colours.\n",
        "    \n",
        "    Height and Width are padded.\n",
        "    \n",
        "    mode = \"constant\" is to pad with a constant value. I can also pad with the edge values, the mean, the median, etc.\n",
        "    constant_values is to set a value with which I pad. Normally it will be 0, but I could set it to something.\n",
        "    \n",
        "    Remember X_pad has dimensions (m, Height + 2*pad, Width + 2*pad, n_colours)\n",
        "    \n",
        "    \"\"\"\n",
        "    \n",
        "    X_pad = np.pad(X, ((0, 0), (pad, pad), (pad, pad), (0, 0)), mode = \"constant\", constant_values = 0)\n",
        "    \n",
        "    return X_pad"
      ],
      "execution_count": 0,
      "outputs": []
    },
    {
      "cell_type": "markdown",
      "metadata": {
        "id": "e4axnCQdOar3",
        "colab_type": "text"
      },
      "source": [
        "Now I am going to pad a random value vector, just to check the performance of my function."
      ]
    },
    {
      "cell_type": "code",
      "metadata": {
        "id": "zP7jd3IBOgbx",
        "colab_type": "code",
        "colab": {
          "base_uri": "https://localhost:8080/",
          "height": 242
        },
        "outputId": "b8d2693c-b8f0-4083-f379-624939be7d85"
      },
      "source": [
        "X = np.random.rand(4, 3, 3, 2)\n",
        "\n",
        "pad = 2\n",
        "\n",
        "X_pad = zero_padding(X, pad)\n",
        "\n",
        "print(\"The shape of X is: \", X.shape)\n",
        "print(\"The shape of X_pad is: \", X_pad.shape)\n",
        "\n",
        "fig, axarr = plt.subplots(1, 2)\n",
        "\n",
        "axarr[0].set_title(\"Original\")\n",
        "axarr[1].set_title(\"Padded\")\n",
        "axarr[0].imshow(X[0, :, :, 0])\n",
        "axarr[1].imshow(X_pad[0, :, :, 0])\n"
      ],
      "execution_count": 24,
      "outputs": [
        {
          "output_type": "stream",
          "text": [
            "The shape of X is:  (4, 3, 3, 2)\n",
            "The shape of X_pad is:  (4, 7, 7, 2)\n"
          ],
          "name": "stdout"
        },
        {
          "output_type": "execute_result",
          "data": {
            "text/plain": [
              "<matplotlib.image.AxesImage at 0x7fbfff7907b8>"
            ]
          },
          "metadata": {
            "tags": []
          },
          "execution_count": 24
        },
        {
          "output_type": "display_data",
          "data": {
            "image/png": "[encoded data removed]",
            "text/plain": [
              "<Figure size 360x288 with 2 Axes>"
            ]
          },
          "metadata": {
            "tags": []
          }
        }
      ]
    },
    {
      "cell_type": "markdown",
      "metadata": {
        "id": "RwGvEDZBPoKW",
        "colab_type": "text"
      },
      "source": [
        "And the picture can be seen in the padded version surrounded by 0s, which are shown in black.\n",
        "\n",
        "Now I am going to implement a convolution filter. Only one step of the filtering operation. The for loop I will do it later."
      ]
    },
    {
      "cell_type": "code",
      "metadata": {
        "id": "QBE26GmWfWyt",
        "colab_type": "code",
        "colab": {}
      },
      "source": [
        "def conv_one_step(Sector, W, b):\n",
        "  \n",
        "  \"\"\"\n",
        "  This function performs 1 convolution step. Takes the current sector of the image, multiplies by the weights (W, unsurprisingly) and adds the bias, then sum all.\n",
        "  Then, somehow I will move the filter, selecting a new sector and then multiply and add. But this is not done by this function.\n",
        "  \n",
        "  PARAMETERS:\n",
        "  \n",
        "  Sector is a matrix of dimension (f, f, n_colours)\n",
        "  \n",
        "  W is a matrix of dimension (f, f, n_colours)\n",
        "  b is a matrix of dimension (1, 1, 1), that will get broadcasted in the sum.\n",
        "  \n",
        "  conv is a scalar obviously. The result of a convolution is a scalar.\n",
        "  \n",
        "  \"\"\"\n",
        "  \n",
        "  sec = np.multiply(Sector, W) + b\n",
        "  conv = np.sum(sec)\n",
        "  \n",
        "  return conv"
      ],
      "execution_count": 0,
      "outputs": []
    },
    {
      "cell_type": "markdown",
      "metadata": {
        "id": "72C2M7dyovsa",
        "colab_type": "text"
      },
      "source": [
        "Now test this. I use randomly generated matrices but they should be the result of selecting the relevant pixels of the current image."
      ]
    },
    {
      "cell_type": "code",
      "metadata": {
        "id": "T7IOtGWLoxy3",
        "colab_type": "code",
        "colab": {
          "base_uri": "https://localhost:8080/",
          "height": 34
        },
        "outputId": "5cf277f0-6ace-4398-e05e-f00455b9b8ab"
      },
      "source": [
        "random_mat = np.random.rand(4, 4, 3)\n",
        "\n",
        "W = np.random.rand(4, 4, 3)\n",
        "\n",
        "b = np.random.rand(1, 1, 1)\n",
        "\n",
        "result_conv = conv_one_step(random_mat, W, b)\n",
        "\n",
        "print(\"The result of a random convolution is: \", result_conv)"
      ],
      "execution_count": 26,
      "outputs": [
        {
          "output_type": "stream",
          "text": [
            "The result of a random convolution is:  39.91450013077366\n"
          ],
          "name": "stdout"
        }
      ]
    },
    {
      "cell_type": "markdown",
      "metadata": {
        "id": "ZnHv2JWD0Kdc",
        "colab_type": "text"
      },
      "source": [
        "At this point, this works"
      ]
    }
  ]
}